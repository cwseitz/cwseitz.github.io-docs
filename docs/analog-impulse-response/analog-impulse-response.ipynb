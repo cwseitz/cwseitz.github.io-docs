{
 "cells": [
  {
   "cell_type": "code",
   "execution_count": 2,
   "metadata": {},
   "outputs": [
    {
     "data": {
      "text/html": [
       "<style>.container { width:60% !important; }</style>"
      ],
      "text/plain": [
       "<IPython.core.display.HTML object>"
      ]
     },
     "metadata": {},
     "output_type": "display_data"
    }
   ],
   "source": [
    "from IPython.core.display import display, HTML\n",
    "display(HTML(\"<style>.container { width:60% !important; }</style>\"))"
   ]
  },
  {
   "cell_type": "markdown",
   "metadata": {},
   "source": [
    "### Impulse response\n",
    "\n",
    "In signal processing, the impulse response, or impulse response function (IRF), of a dynamic system is its output when presented with a brief input signal, called an impulse. By definition, the output for an arbitrary input sinal is equivalent to the convolution of the input with the IRF. If we let $h(t)$ be the IRF then we can predict the output as\n",
    "\n",
    "\n",
    "\\begin{align}\n",
    "V_{out}(t) = V_{in}(t) * h(t) = \\int_{0}^{T} V_{in}(t)h(t)dt \n",
    "\\end{align}\n",
    "\n",
    "\n",
    "Another useful property of the IRF is that its Fourier transform is the frequency reponse of the system - the transfer function. \n",
    "\n",
    "\\begin{align}\n",
    "H(\\omega) = \\int_{-\\infty}^{\\infty} h(t)\\exp -i\\omega t dt\n",
    "\\end{align}\n",
    "\n",
    "This property can be very useful if we already know the impulse response and would like to find the transfer function.\n",
    "\n",
    "### A toy example\n",
    "\n",
    "The following differential equation describes the relationship between input and output signals for an RC circuit with time constant $\\tau$\n",
    "\n",
    "\\begin{align}\n",
    "V_{in} = \\tau\\frac{dV_{out}}{dt} + V_{out}\n",
    "\\end{align}\n",
    "\n",
    "You can solve this equation by first finding the homogeneous solution when $V_{in} = 0$.\n",
    "\n",
    "\\begin{align}\n",
    "\\tau\\frac{dV_{out}}{dt} = - V_{out}\n",
    "\\end{align}\n",
    "\n",
    "\\begin{align}\n",
    "V_{out} = A(t)e^{\\frac{-t}{\\tau}}\n",
    "\\end{align}\n",
    "\n",
    "Plugging that back into our original differential equation we have: \n",
    "\n",
    "\\begin{align}\n",
    "V_{in} = \\tau[A'(t)e^{\\frac{-t}{\\tau}} - \\frac{A(t)}{\\tau}e^{\\frac{-t}{\\tau}}]  + A(t)e^{\\frac{-t}{\\tau}} = \\tau A'(t)e^{\\frac{-t}{\\tau}}\n",
    "\\end{align}\n",
    "\n",
    "If our input is an impulse, we substitute a delta function $\\delta(0)$ for $V_{in}$: \n",
    "\n",
    "\\begin{align}\n",
    "A(t) = \\frac{1}{\\tau}\\int \\delta(0)e^\\frac{t}{\\tau}dt = \\frac{1}{\\tau}\n",
    "\\end{align}\n",
    "\n",
    "\\begin{align}\n",
    "h(t) = \\frac{1}{\\tau}e^{\\frac{-t}{\\tau}}\n",
    "\\end{align}\n",
    "\n",
    "So we see that the impulse response of an RC circuit is a decaying expontential. Now we can derive the transfer function by taking the fourier transform of the impulse response:\n",
    "\n",
    "\\begin{align}\n",
    "\\mathcal{F}[h(t)] = \\frac{1}{\\tau}\\int_{-\\infty}^{\\infty}e^{-t(i\\omega + 1/\\tau)}dt = \\frac{1}{-(1 + i\\omega\\tau)}\n",
    "\\end{align}"
   ]
  }
 ],
 "metadata": {
  "kernelspec": {
   "display_name": "Python 3",
   "language": "python",
   "name": "python3"
  },
  "language_info": {
   "codemirror_mode": {
    "name": "ipython",
    "version": 3
   },
   "file_extension": ".py",
   "mimetype": "text/x-python",
   "name": "python",
   "nbconvert_exporter": "python",
   "pygments_lexer": "ipython3",
   "version": "3.8.3"
  },
  "nikola": {
   "category": "electronics",
   "date": "2020-07-01 01:05:03 UTC-04:00",
   "description": "",
   "link": "",
   "slug": "analog-impulse-response",
   "tags": "",
   "title": "Analog impulse response",
   "type": "text"
  }
 },
 "nbformat": 4,
 "nbformat_minor": 4
}
