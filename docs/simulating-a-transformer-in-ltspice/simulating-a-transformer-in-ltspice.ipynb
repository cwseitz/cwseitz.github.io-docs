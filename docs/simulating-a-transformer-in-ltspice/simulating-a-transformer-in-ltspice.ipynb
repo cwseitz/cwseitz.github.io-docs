{
 "cells": [
  {
   "cell_type": "markdown",
   "metadata": {},
   "source": [
    "### Simulating a transformer in LTSpice\n",
    "\n",
    "In LTSpice, there is no transformer component per say; however, a transformer is really just a pair of inductors. This means that we can simulate a transformer in spice by creating two or more inductors and specifying their mutual inductance via a spice directive. Before we do that, recall that the voltage ratio of the primary and secondary windings of a transformer is given by:\n",
    "\n",
    "\\begin{align}\n",
    "\\frac{V_{2}}{V_{1}} = \\frac{N_{2}}{N_{1}}\n",
    "\\end{align}\n",
    "\n",
    "where $N_{i}$ is the number of turns of that winding. But in LTSpice, we control the inductance $L$, so we have to use the relation of inductance to the number of turns: \n",
    "\n",
    "\\begin{align}\n",
    "L = \\frac{N^{2}\\mu A}{I}\n",
    "\\end{align}\n",
    "\n",
    "This means that, for a given voltage ratio, we need an inductance ratio that satisfies:\n",
    "\n",
    "\\begin{align}\n",
    "\\frac{V_{2}}{V_{1}} \\propto \\sqrt{\\frac{L_{2}}{L_{1}}}\n",
    "\\end{align}\n",
    "\n",
    "Let's say we want a step-up transformer with a voltage ratio of 10 i.e. an inductance ratio of 100. We can realize this with a pair of 1mH and 100mH inductors. We will drive the primary winding of this transformer with a $10V$ AC signal with frequency 60Hz through a resistance $R_{2} = 10\\Omega$. The secondary also has a series resistance $R_{1} = 100\\Omega$. The primary winding of the transformer is really just an RL circuit with total impedance: \n",
    "\n",
    "\\begin{align}\n",
    "|Z| = \\sqrt{R^{2} + (\\omega L)^{2}} = 10\\Omega\n",
    "\\end{align}\n",
    "\n",
    "The impedance of the inductor alone is:\n",
    "\n",
    "\\begin{align}\n",
    "X_{L} = \\omega L = 3.75 \\Omega\n",
    "\\end{align}\n",
    "\n",
    "Knowing the current through the primary winding: \n",
    "\n",
    "\\begin{align}\n",
    "I = \\frac{V}{|Z|} = 1A\n",
    "\\end{align}\n",
    "\n",
    "so the voltage across the inductor is $375mV$ which is roughly what we observe in the plot below. Now, since we have chosen inductances for a voltage ratio of 100, we should have an output voltage of 3.75V, which is the case. The last thing to note is the half-cycle phase shift between the input and output voltages - food for thought."
   ]
  }
 ],
 "metadata": {
  "kernelspec": {
   "display_name": "Python 3",
   "language": "python",
   "name": "python3"
  },
  "language_info": {
   "codemirror_mode": {
    "name": "ipython",
    "version": 3
   },
   "file_extension": ".py",
   "mimetype": "text/x-python",
   "name": "python",
   "nbconvert_exporter": "python",
   "pygments_lexer": "ipython3",
   "version": "3.8.3"
  },
  "nikola": {
   "category": "electronics",
   "date": "2020-05-27 22:49:13 UTC-04:00",
   "description": "",
   "link": "",
   "slug": "simulating-a-transformer-in-ltspice",
   "tags": "",
   "title": "Simulating a transformer in LTSpice",
   "type": "text"
  }
 },
 "nbformat": 4,
 "nbformat_minor": 4
}
