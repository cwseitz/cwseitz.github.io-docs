{
 "cells": [
  {
   "cell_type": "code",
   "execution_count": 1,
   "metadata": {},
   "outputs": [
    {
     "data": {
      "text/html": [
       "<style>.container { width:60% !important; }</style>"
      ],
      "text/plain": [
       "<IPython.core.display.HTML object>"
      ]
     },
     "metadata": {},
     "output_type": "display_data"
    }
   ],
   "source": [
    "from IPython.core.display import display, HTML\n",
    "display(HTML(\"<style>.container { width:60% !important; }</style>\"))"
   ]
  },
  {
   "cell_type": "markdown",
   "metadata": {},
   "source": [
    "### C vs Python Bubble Sort\n",
    "\n",
    "In this post I will implement the bubble sort algorithm in both C and Python languages. The purpose of this is to illustrate the performance differences between a compiled language like C and an interpreted language like Python. Importantly, running these two programs will require the C kernel for jupyter which can be installed by following the instructions [here](https://cwseitz.github.io/output/posts/how-to-install-c-kernel-in-jupyter/). Be sure to change to the appropriate kernel depending on which program you run. \n",
    "\n",
    "### The C Implementation"
   ]
  },
  {
   "cell_type": "code",
   "execution_count": 1,
   "metadata": {},
   "outputs": [
    {
     "name": "stdout",
     "output_type": "stream",
     "text": [
      "19 13 6 2 18 8 \n",
      "2 6 8 13 18 19 \n",
      "Execution Time = 0.002000 ms\n"
     ]
    }
   ],
   "source": [
    "#include <stdio.h>\n",
    "#include <time.h>\n",
    "\n",
    "void swap(int *px, int *py)\n",
    "{\n",
    "    int temp; \n",
    "    temp = *px;\n",
    "    *px = *py; \n",
    "    *py = temp; \n",
    "}\n",
    "\n",
    "/* Bubble sort */\n",
    "void bubble_sort(int *arr, int size)\n",
    "{\n",
    "\tint i,j;\n",
    "\tfor (i=0; i < size; i++){\n",
    "\t\tfor (j=0; j < size - 1; j++){\n",
    "\t\t\tif (arr[j] > arr[j+1]){\n",
    "\t\t\t\tswap(&arr[j], &arr[j+1]);\n",
    "\t\t\t}\t\n",
    "\t\t}\n",
    "\t}\n",
    "}\n",
    "\n",
    "/* Function to print an array */\n",
    "void print_array(int *arr, int size)\n",
    "{\n",
    "    int i;\n",
    "    for (i=0; i < size; i++)\n",
    "        printf(\"%d \", arr[i]);\n",
    "    printf(\"\\n\");\n",
    "}\n",
    "\n",
    "int main()\n",
    "{\n",
    "\tint arr[] = {19, 13, 6, 2, 18, 8};\n",
    "\tsize_t size = sizeof(arr)/sizeof(arr[0]);\n",
    "\tprint_array(arr, size);\n",
    "\tclock_t begin = clock();\n",
    "\tbubble_sort(arr, size);\n",
    "\tclock_t end = clock();\n",
    "\tdouble time_spent = (double)(end - begin) / CLOCKS_PER_SEC;\n",
    "\tprint_array(arr, size);\n",
    "\tprintf(\"Execution Time = %f ms\\n\",1000*time_spent);\n",
    "\treturn 0;\n",
    "}"
   ]
  },
  {
   "cell_type": "markdown",
   "metadata": {},
   "source": [
    "### The Python Implementation"
   ]
  },
  {
   "cell_type": "code",
   "execution_count": 1,
   "metadata": {},
   "outputs": [
    {
     "name": "stdout",
     "output_type": "stream",
     "text": [
      "[19, 13, 6, 2, 18, 8]\n",
      "[2, 6, 8, 13, 18, 19]\n",
      "Execution time: 0.1838207244873047 ms\n"
     ]
    }
   ],
   "source": [
    "import time\n",
    "\n",
    "def bubble_sort(arr):\n",
    "    for i in range(len(arr)):\n",
    "        for j in range(len(arr) - 1):\n",
    "            if arr[j] > arr[j+1]:\n",
    "                arr[j], arr[j+1] = arr[j+1], arr[j]\n",
    "\n",
    "    return arr\n",
    "    \n",
    "arr = [19, 13, 6, 2, 18, 8]\n",
    "print(arr)\n",
    "start = time.time()\n",
    "sorted_arr = bubble_sort(arr)\n",
    "end = time.time()\n",
    "print(sorted_arr)\n",
    "print('Execution time: %s ms' % str(1000*(end - start)))"
   ]
  },
  {
   "cell_type": "markdown",
   "metadata": {},
   "source": [
    "After running these two implementations of the bubble sort algorithm, we see that the C code runs much faster than Python. At the same time, however, the Python code is much shorter and more readable than C. If we want to be really fancy, we can have the best of both worlds by using the Python/C API. A bare-bones tutorial on this API can be found [here](https://cwseitz.github.io/output/posts/optimizing-python-execution-with-the-pythonc-api/). \n",
    "\n",
    "### C Extension Module for Python"
   ]
  },
  {
   "cell_type": "code",
   "execution_count": null,
   "metadata": {},
   "outputs": [],
   "source": [
    "#include <Python.h>\n",
    "\n",
    "/* Swap variables via their pointers */\n",
    "void swap(int *px, int *py)\n",
    "{\n",
    "    int temp;\n",
    "    temp = *px;\n",
    "    *px = *py;\n",
    "    *py = temp;\n",
    "}\n",
    "\n",
    "/* Bubble sort */\n",
    "int bubble_sort(float *arr, int size)\n",
    "{\n",
    "\tint i,j;\n",
    "\tfor (i=0; i < size; i++){\n",
    "\t\tfor (j=0; j < size - 1; j++){\n",
    "\t\t\tif (arr[j] > arr[j+1]){\n",
    "\t\t\t\tswap(&arr[j], &arr[j+1]);\n",
    "\t\t\t}\n",
    "\t\t}\n",
    "\t}\n",
    "\treturn 0;\n",
    "}\n",
    "\n",
    "/* Function to print an array */\n",
    "int print_array(float *arr, int size)\n",
    "{\n",
    "\tfor (int i = 0; i < size; i++)\n",
    "\t\t\tprintf(\"%f \", i, arr[i]);\n",
    "  printf(\"\\n\");\n",
    "\treturn 0;\n",
    "}\n",
    "\n",
    "static PyObject *bubbles_sort(PyObject *self, PyObject *args) {\n",
    "\n",
    "\tPyObject *float_list;\n",
    "\tint pr_length;\n",
    "\tfloat *pr;\n",
    "\n",
    "\tif (!PyArg_ParseTuple(args, \"O\", &float_list))\n",
    "\t\t\treturn NULL;\n",
    "\n",
    "\tpr_length = PyObject_Length(float_list);\n",
    "\tif (pr_length < 0)\n",
    "\t\t\treturn NULL;\n",
    "\tpr = (float *) malloc(sizeof(float *) * pr_length);\n",
    "\tif (pr == NULL)\n",
    "\t\t\treturn NULL;\n",
    "\tfor (int i = 0; i < pr_length; i++) {\n",
    "\t\t\tPyObject *item;\n",
    "\t\t\titem = PyList_GetItem(float_list, i);\n",
    "\t\t\tif (!PyFloat_Check(item))\n",
    "\t\t\t\t\tpr[i] = 0.0;\n",
    "\t\t\tpr[i] = PyFloat_AsDouble(item);\n",
    "\t}\n",
    "\n",
    "\n",
    "\t/* Build python list from C array */\n",
    "\tbubble_sort(pr, pr_length);\n",
    "\tfor (int i = 0; i < pr_length; i++) {\n",
    "\t\tPyObject *py_val = Py_BuildValue(\"f\", pr[i]);\n",
    "\t\tPyList_SetItem(float_list, i, py_val);\n",
    "\t}\n",
    "\tPy_RETURN_NONE;\n",
    "}\n",
    "\n",
    "static PyMethodDef BubblesMethods[] = {\n",
    "    {\"sort\", bubbles_sort, METH_VARARGS, \"Python interface for fputs C library function\"},\n",
    "    {NULL, NULL, 0, NULL}\n",
    "};\n",
    "\n",
    "\n",
    "static struct PyModuleDef bubblesmodule = {\n",
    "    PyModuleDef_HEAD_INIT,\n",
    "    \"bubbles\",\n",
    "    \"Python interface for the fputs C library function\",\n",
    "    -1,\n",
    "    BubblesMethods\n",
    "};\n",
    "\n",
    "PyMODINIT_FUNC PyInit_bubbles(void) {\n",
    "    return PyModule_Create(&bubblesmodule);\n",
    "}\n"
   ]
  },
  {
   "cell_type": "markdown",
   "metadata": {},
   "source": [
    "First, save the above script as the C module bubbles.c. Then create a setup.py module as in the Python/C API tutorial mentioned above:\n"
   ]
  },
  {
   "cell_type": "code",
   "execution_count": null,
   "metadata": {},
   "outputs": [],
   "source": [
    "from distutils.core import setup, Extension\n",
    "\n",
    "def main():\n",
    "    setup(name=\"bubbles\",\n",
    "          version=\"1.0.0\",\n",
    "          description=\"Bubble sort algorithm in C\",\n",
    "          author=\"Clayton Seitz\",\n",
    "          author_email=\"cwseitz@uchicago.edu\",\n",
    "          ext_modules=[Extension(\"bubbles\", [\"bubbles.c\"])])\n",
    "\n",
    "if __name__ == \"__main__\":\n",
    "    main()"
   ]
  },
  {
   "cell_type": "markdown",
   "metadata": {},
   "source": [
    "After successful compilation and installation of the module, you can invoke the C implementation of the bubble sort as follows:"
   ]
  },
  {
   "cell_type": "code",
   "execution_count": null,
   "metadata": {},
   "outputs": [],
   "source": [
    "import bubbles\n",
    "import time\n",
    "\n",
    "arr = [19, 13, 6, 2, 18, 8]\n",
    "print(arr)\n",
    "start = time.time()\n",
    "bubbles.sort(arr)\n",
    "end = time.time()\n",
    "print(arr)\n",
    "print('Execution time: %s ms' % str(1000*(end - start)))"
   ]
  },
  {
   "cell_type": "markdown",
   "metadata": {},
   "source": [
    "In the end you will find that you get comparable performance to the pure C implementation. After all, the bulk of the computation is executed by compiled C code. In addition to that, users of the bubbles.sort() function will appreciate the simplicity and ability to integrate the module into existing python packages."
   ]
  }
 ],
 "metadata": {
  "kernelspec": {
   "display_name": "Python 3",
   "language": "python",
   "name": "python3"
  },
  "language_info": {
   "codemirror_mode": {
    "name": "ipython",
    "version": 3
   },
   "file_extension": ".py",
   "mimetype": "text/x-python",
   "name": "python",
   "nbconvert_exporter": "python",
   "pygments_lexer": "ipython3",
   "version": "3.8.3"
  },
  "nikola": {
   "category": "c-prog",
   "date": "2020-07-19 17:02:23 UTC-04:00",
   "description": "",
   "link": "",
   "slug": "c-vs-python-bubble-sort-performance",
   "tags": "",
   "title": "C vs Python Bubble Sort Performance",
   "type": "text"
  }
 },
 "nbformat": 4,
 "nbformat_minor": 4
}
