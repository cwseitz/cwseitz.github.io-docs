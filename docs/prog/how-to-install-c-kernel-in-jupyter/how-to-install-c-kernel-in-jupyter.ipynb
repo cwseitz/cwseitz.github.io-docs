{
 "cells": [
  {
   "cell_type": "code",
   "execution_count": null,
   "metadata": {},
   "outputs": [],
   "source": [
    "conda activate XXX\n",
    "pip install jupyter-c-kernel\n",
    "sudo mkdir /usr/local/share/jupyter\n",
    "chmod -R 777 /usr/local/share/jupyter\n",
    "install_c_kernel"
   ]
  }
 ],
 "metadata": {
  "kernelspec": {
   "display_name": "Python 3",
   "language": "python",
   "name": "python3"
  },
  "language_info": {
   "codemirror_mode": {
    "name": "ipython",
    "version": 3
   },
   "file_extension": ".py",
   "mimetype": "text/x-python",
   "name": "python",
   "nbconvert_exporter": "python",
   "pygments_lexer": "ipython3",
   "version": "3.8.3"
  },
  "nikola": {
   "category": "c-prog",
   "date": "2020-03-30 00:11:44 UTC-04:00",
   "description": "",
   "link": "",
   "slug": "how-to-install-c-kernel-in-jupyter",
   "tags": "",
   "title": "How to install C Kernel in Jupyter",
   "type": "text"
  }
 },
 "nbformat": 4,
 "nbformat_minor": 2
}
