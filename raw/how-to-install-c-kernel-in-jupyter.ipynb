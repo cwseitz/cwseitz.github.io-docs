{
 "cells": [
  {
   "cell_type": "raw",
   "metadata": {},
   "source": [
    "First, we need to install the C kernel into the version of jupyter notebook that shipped with anaconda. To do that, we activate the environment, install jupyter-c-kernel via pip, change directory permissions so that it is installed within our virtual environment, then issue install_c_kernel.\n"
   ]
  },
  {
   "cell_type": "code",
   "execution_count": null,
   "metadata": {},
   "outputs": [],
   "source": [
    "conda activate XXX\n",
    "pip install jupyter-c-kernel\n",
    "sudo mkdir /usr/local/share/jupyter\n",
    "chmod -R 777 /usr/local/share/jupyter\n",
    "install_c_kernel"
   ]
  }
 ],
 "metadata": {
  "kernelspec": {
   "display_name": "Python 3",
   "language": "python",
   "name": "python3"
  },
  "language_info": {
   "codemirror_mode": {
    "name": "ipython",
    "version": 3
   },
   "file_extension": ".py",
   "mimetype": "text/x-python",
   "name": "python",
   "nbconvert_exporter": "python",
   "pygments_lexer": "ipython3",
   "version": "3.7.3"
  },
  "nikola": {
   "category": "c-prog",
   "date": "2020-03-30 00:11:44 UTC-04:00",
   "description": "",
   "link": "",
   "slug": "how-to-install-c-kernel-in-jupyter",
   "tags": "",
   "title": "How to install C Kernel in Jupyter",
   "type": "text"
  }
 },
 "nbformat": 4,
 "nbformat_minor": 2
}
