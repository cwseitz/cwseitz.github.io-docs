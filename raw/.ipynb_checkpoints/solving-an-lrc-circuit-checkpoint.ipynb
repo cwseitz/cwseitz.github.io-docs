{
 "cells": [
  {
   "cell_type": "markdown",
   "metadata": {},
   "source": [
    "### The LRC Circuit\n",
    "\n",
    "Kirchoff's voltage rule written for an LRC circuit driven at angular frequency $\\omega$: \n",
    "\n",
    "\\begin{align}\n",
    "L\\frac{dI}{dt} + IR + \\frac{1}{C}\\int I dt = Ve^{i\\omega t}\n",
    "\\end{align}\n",
    "\n",
    "which can be differentiated to give: \n",
    "\n",
    "\\begin{align}\n",
    "LI'' + RI' + \\frac{1}{C}I = Ve^{i\\omega t}\n",
    "\\end{align}\n",
    "\n",
    "which is second-order differential equation with constant coefficient driven by a complex exponential. The general solution for an equation of this form is: \n",
    "\n",
    "\\begin{align}\n",
    "I(t) = We^{i\\omega t}\n",
    "\\end{align}\n",
    "\n",
    "Plugging $I(t)$ in an rearranging gives the following value for W: \n",
    "\n",
    "\\begin{align}\n",
    "W = \\frac{V}{R + j\\omega L + \\frac{1}{j\\omega C}}\n",
    "\\end{align}\n",
    "\n",
    "The term in the denomenator is a complex number called the *impedance*. Basically, the impedance is a generalized resistance that applies to capacitors and inductors as well as resistors. We might as well write out the impedance and find its magnitude and phase: \n",
    "\n",
    "\\begin{align}\n",
    "Z = {R + j(\\omega L - \\frac{1}{\\omega C})}\n",
    "\\end{align}\n",
    "\n",
    "\\begin{align}\n",
    "|Z|^{2} = R^{2} + (\\omega L - \\frac{1}{\\omega C})^{2}\n",
    "\\end{align}\n",
    "\n",
    "\\begin{align}\n",
    "\\phi = \\arctan{\\frac{\\omega L - \\frac{1}{\\omega C}}{R}}\n",
    "\\end{align}\n",
    "\n",
    "Given the magnitude of the impedance, we can find the current through our LRC circuit:\n",
    "\n",
    "\\begin{align}\n",
    "I = \\frac{ Ve^{i\\omega t + \\phi}}{\\sqrt{R^{2} + (\\omega L - \\frac{1}{\\omega C})^{2}}}\n",
    "\\end{align}\n",
    "\n",
    "notice the phase shift $\\phi$. Finally, we can find the voltage drop across each of the components. The resistor is easy, the voltage drop is simply $IR$. However, the inductor and capacitor are a little more complicated. The drop across the inductor can be found via the terms we put in our original differential equation: \n",
    "\n",
    "\\begin{align}\n",
    "V_{L} = L\\frac{dI}{dt} = \\frac{ i\\omega VLe^{i\\omega t + \\phi}}{\\sqrt{R^{2} + (\\omega L - \\frac{1}{\\omega C})^{2}}}\n",
    "\\end{align}\n",
    "\n",
    "\\begin{align}\n",
    "V_{C} = \\frac{\\int Idt}{C} = \\frac{ -iVe^{i\\omega t + \\phi}}{\\omega C\\sqrt{R^{2} + (\\omega L - \\frac{1}{\\omega C})^{2}}}\n",
    "\\end{align}\n",
    "\n",
    "\n",
    "Notice the phase of these complex voltages. The voltage across the inductor leads the voltage on the resistor by 90 degrees since it is a purely real resistance. The voltage across the resistor then leads the capacitor by 90 degrees. Each of these voltages oscillates with an angular frequency $\\omega$ with a phase shift $\\phi$ relative to the source voltage. "
   ]
  }
 ],
 "metadata": {
  "kernelspec": {
   "display_name": "Python 3",
   "language": "python",
   "name": "python3"
  },
  "language_info": {
   "codemirror_mode": {
    "name": "ipython",
    "version": 3
   },
   "file_extension": ".py",
   "mimetype": "text/x-python",
   "name": "python",
   "nbconvert_exporter": "python",
   "pygments_lexer": "ipython3",
   "version": "3.8.3"
  },
  "nikola": {
   "category": "electronics",
   "date": "2020-05-27 23:55:29 UTC-04:00",
   "description": "",
   "link": "",
   "slug": "solving-an-lrc-circuit",
   "tags": "",
   "title": "Solving an LRC circuit",
   "type": "text"
  }
 },
 "nbformat": 4,
 "nbformat_minor": 4
}
