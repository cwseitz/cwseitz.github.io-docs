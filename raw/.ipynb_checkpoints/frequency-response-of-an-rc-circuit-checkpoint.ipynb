{
 "cells": [
  {
   "cell_type": "markdown",
   "metadata": {},
   "source": [
    "# Frequency response of an RC circuit\n",
    "\n",
    "The RC circuit can behave in different ways, depending on how we probe it. To achieve a low-pass configuration, we can probe the voltage across the capacitor. In that configuration, high frequencies are bled to ground through the cap. If we decide to swap the components like the figure the right, we have a high-pass filter, where low frequencies are bled to ground instead.\n",
    "\n",
    " <img src=\"../../images/lpf-hpf.png\" width=\"600\"/>\n",
    "\n",
    "Left on its own, the current through the circuit is exactly the same for both scenarios and can be found in another post on LRC analysis:\n",
    "\n",
    "\\begin{align}\n",
    "I = \\frac{V_{in}}{R + \\frac{1}{j\\omega C}}\n",
    "\\end{align}\n",
    "\n",
    "We use this expression when examining both the low-pass and high-pass cases even though the wiring appears different. It it is interesting to note that you can wire the two devices in series with the source and whether you measure the voltage over the resistor or the capacitor determines whether it is a high-pass or low-pass circuit, respectively. \n",
    "\n",
    "\n",
    "# RC Low-Pass Filter (LPF)\n",
    "\n",
    "Ultimately we want to come up with the *transfer function* for an RC low-pass circuit. The transfer function $H(\\omega)$ is simply the ratio of the output and input voltages as a function of frequency. Determining what that function is requires that we utilize the *impedance* for the RC device.\n",
    "\n",
    "\\begin{align}\n",
    "H(\\omega) = \\frac{V_{out}}{V_{in}}\n",
    "\\end{align}\n",
    "\n",
    "Using the current from above we can write:\n",
    "\n",
    "\\begin{align}\n",
    "V_{out} = IX_{C} = \\frac{V_{in}}{j\\omega C(R + \\frac{1}{j\\omega C})}\n",
    "\\end{align}\n",
    "\n",
    "Since the transfer function is only the ratio of output to input\n",
    "\n",
    "\\begin{align}\n",
    "H(\\omega) = \\frac{1}{1 + j\\omega RC}\n",
    "\\end{align}\n",
    "\n",
    "Notice that the transfer function is complex. We need to find its magnitude which is commonly referred to as the *gain* of the circuit.\n",
    "\n",
    "\\begin{align}\n",
    "|H(\\omega)| = \\frac{1}{\\sqrt{1 + (\\omega RC)^{2}}}\n",
    "\\end{align}\n",
    "\n",
    "Now, we can plot the gain as a function of frequency."
   ]
  },
  {
   "cell_type": "code",
   "execution_count": 19,
   "metadata": {},
   "outputs": [
    {
     "data": {
      "image/png": "[encoded data removed]",
      "text/plain": [
       "<Figure size 432x288 with 1 Axes>"
      ]
     },
     "metadata": {
      "needs_background": "light"
     },
     "output_type": "display_data"
    }
   ],
   "source": [
    "import numpy as np\n",
    "import matplotlib.pyplot as plt\n",
    "\n",
    "def rc_transfer(w, R=0.1, C=0.1): \n",
    "    h = 1/np.sqrt(1+(w*R*C)**2)\n",
    "    return h\n",
    "\n",
    "w = np.linspace(0, 10e4, 100)\n",
    "h = rc_transfer(w, R=22e3, C=2.2e-9)\n",
    "\n",
    "plt.plot(w, h)\n",
    "plt.ylabel('Gain')\n",
    "plt.xlabel('Angular Frequency')\n",
    "plt.show()"
   ]
  },
  {
   "cell_type": "markdown",
   "metadata": {},
   "source": [
    "# RC High-Pass Filter (HPF)\n",
    "\n",
    "Again, we want to come up with the transfer function this time for a RC high-pass circuit. The only difference is that the output voltage is measured accross the resistor this time:\n",
    "\n",
    "\\begin{align}\n",
    "V_{out} = \\frac{V_{in}R}{R + \\frac{1}{j\\omega C}}\n",
    "\\end{align}\n",
    "\n",
    "\\begin{align}\n",
    "H(\\omega) = \\frac{R}{R + \\frac{1}{j\\omega C}} = \\frac{j\\omega RC}{1 + j\\omega RC}\n",
    "\\end{align}\n",
    "\n",
    "As before, we use the complex form of the transfer function to calculate the gain:\n",
    "\n",
    "\\begin{align}\n",
    "|H(\\omega)| = \\frac{\\omega RC}{\\sqrt{1 + (\\omega RC)^{2}}}\n",
    "\\end{align}\n",
    "\n",
    "Now, we can plot the gain as a function of frequency."
   ]
  },
  {
   "cell_type": "code",
   "execution_count": 21,
   "metadata": {},
   "outputs": [
    {
     "data": {
      "image/png": "[encoded data removed]",
      "text/plain": [
       "<Figure size 432x288 with 1 Axes>"
      ]
     },
     "metadata": {
      "needs_background": "light"
     },
     "output_type": "display_data"
    }
   ],
   "source": [
    "import numpy as np\n",
    "import matplotlib.pyplot as plt\n",
    "\n",
    "def rc_transfer(w, R=0.1, C=0.1): \n",
    "    h = w*R*C/np.sqrt(1+(w*R*C)**2)\n",
    "    return h\n",
    "\n",
    "w = np.linspace(0, 10e4, 100)\n",
    "h = rc_transfer(w, R=22e3, C=2.2e-9)\n",
    "\n",
    "plt.plot(w, h)\n",
    "plt.ylabel('Gain')\n",
    "plt.xlabel('Angular Frequency')\n",
    "plt.show()"
   ]
  },
  {
   "cell_type": "code",
   "execution_count": null,
   "metadata": {},
   "outputs": [],
   "source": []
  }
 ],
 "metadata": {
  "kernelspec": {
   "display_name": "Python 3",
   "language": "python",
   "name": "python3"
  },
  "language_info": {
   "codemirror_mode": {
    "name": "ipython",
    "version": 3
   },
   "file_extension": ".py",
   "mimetype": "text/x-python",
   "name": "python",
   "nbconvert_exporter": "python",
   "pygments_lexer": "ipython3",
   "version": "3.8.3"
  },
  "nikola": {
   "category": "electronics",
   "date": "2020-06-23 19:54:27 UTC-04:00",
   "description": "",
   "link": "",
   "slug": "frequency-response-of-an-rc-circuit",
   "tags": "",
   "title": "Frequency response of an RC circuit",
   "type": "text"
  }
 },
 "nbformat": 4,
 "nbformat_minor": 4
}
