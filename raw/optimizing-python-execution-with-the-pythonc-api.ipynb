{
 "cells": [
  {
   "cell_type": "markdown",
   "metadata": {},
   "source": [
    "# The Python/C API\n",
    "\n",
    "This post will cover one method for improving the performance of native Python code. Python is an interpreted language and is therefore not compiled directly. Naturally, the solution is to make use of direclty compiled code rather than interpreted code to achieve performance gains. In the python world, that is commonly achieved by making use of the Python/C API. \n",
    "\n",
    "The Python/C API provides an interface between the Python interpreter and the C standard libarary as well as custom modules. The most common use of this API is to write extension C modules than can extend the python interpreter. This is particularly useful when execution speed is critical or an existing module(s) is written in C and needs to be invoked from Python.\n",
    "\n",
    "We can get started by writing a module in C that provides an interface to the C library function fputs(). The declaration of fputs looks like this:"
   ]
  },
  {
   "cell_type": "code",
   "execution_count": null,
   "metadata": {},
   "outputs": [],
   "source": [
    "int fputs(const char *str, FILE *stream)"
   ]
  },
  {
   "cell_type": "markdown",
   "metadata": {},
   "source": [
    "We can see that fputs takes an array of characters as well a pointer to a FILE object that identifies the stream where the string is to be written. Now, let's create a module called magicpants that will serve as a wrapper to the fputs() standard library function. In a file magicpants.c we define the following functions."
   ]
  },
  {
   "cell_type": "code",
   "execution_count": null,
   "metadata": {},
   "outputs": [],
   "source": [
    "#include <Python.h>\n",
    "\n",
    "\n",
    "static PyObject *magicpants_fputs(PyObject *self, PyObject *args) {\n",
    "    char *str, *filename = NULL;\n",
    "    int bytes_copied = -1;\n",
    "\n",
    "    /* Parse arguments */\n",
    "    if(!PyArg_ParseTuple(args, \"ss\", &str, &filename)) {\n",
    "        return NULL;\n",
    "    }\n",
    "\n",
    "    FILE *fp = fopen(filename, \"w\");\n",
    "    bytes_copied = fputs(str, fp);\n",
    "    fclose(fp);\n",
    "\n",
    "    return PyLong_FromLong(bytes_copied);\n",
    "}\n",
    "\n",
    "static PyMethodDef MagicpantsMethods[] = {\n",
    "    {\"fputs\", magicpants_fputs, METH_VARARGS, \"Python interface for fputs C library function\"},\n",
    "    {NULL, NULL, 0, NULL}\n",
    "};\n",
    "\n",
    "\n",
    "static struct PyModuleDef magicpantsmodule = {\n",
    "    PyModuleDef_HEAD_INIT,\n",
    "    \"magicpants\",\n",
    "    \"Python interface for the fputs C library function\",\n",
    "    -1,\n",
    "    MagicpantsMethods\n",
    "};\n",
    "\n",
    "PyMODINIT_FUNC PyInit_magicpants(void) {\n",
    "    return PyModule_Create(&magicpantsmodule);\n",
    "}\n"
   ]
  },
  {
   "cell_type": "markdown",
   "metadata": {},
   "source": [
    "There are a total of four functions that make up our Python extension module written in C. The first function *magicpants_fputs* is the function that will be invoked by the user. It calls the fputs() C function and allows the user to write a Python string object to a file. At this point, it is critical to address the declaration"
   ]
  },
  {
   "cell_type": "code",
   "execution_count": null,
   "metadata": {},
   "outputs": [],
   "source": [
    "static PyObject *magicpants_fputs(PyObject *self, PyObject *args){}"
   ]
  },
  {
   "cell_type": "markdown",
   "metadata": {},
   "source": [
    "Notice that the function is set to return the PyObject type. Everything you can touch in Python is a PyObject in C. That includes lists, dictionaries, sockets, files, integers, strings, functions, classes, you name it. If you can touch it in Python, it’s a PyObject in C. In addition, the function takes PyObjects as arguments which are parsed by the following chunk of code:"
   ]
  },
  {
   "cell_type": "code",
   "execution_count": null,
   "metadata": {},
   "outputs": [],
   "source": [
    "/* Parse arguments */\n",
    "if(!PyArg_ParseTuple(args, \"ss\", &str, &filename)) {\n",
    "    return NULL;\n",
    "}"
   ]
  },
  {
   "cell_type": "markdown",
   "metadata": {},
   "source": [
    "After that, fputs() is invoked and we return the number of bytes written with *PyLong_FromLong* which of course is a Python object. \n",
    "\n",
    "The second function is called the method mapping table:"
   ]
  },
  {
   "cell_type": "code",
   "execution_count": null,
   "metadata": {},
   "outputs": [],
   "source": [
    "static PyMethodDef MagicpantsMethods[] = {\n",
    "    {\"fputs\", magicpants_fputs, METH_VARARGS, \"Python interface for fputs C library function\"},\n",
    "    {NULL, NULL, 0, NULL}\n",
    "};"
   ]
  },
  {
   "cell_type": "markdown",
   "metadata": {},
   "source": [
    "It is a structure that contains the following information:\n",
    "\n",
    "**ml_name** − This is the name of the function as the Python interpreter presents when it is used in Python programs.\n",
    "\n",
    "**ml_meth** − This must be the address to a function that has any one of the signatures described in previous section.\n",
    "\n",
    "**ml_flags** − This tells the interpreter which of the three signatures ml_meth is using.\n",
    "\n",
    "**ml_doc** − This is the docstring for the function, which could be NULL if you do not feel like writing one.\n",
    "\n",
    "The third function defines the module itself: "
   ]
  },
  {
   "cell_type": "code",
   "execution_count": null,
   "metadata": {},
   "outputs": [],
   "source": [
    "static struct PyModuleDef magicpantsmodule = {\n",
    "    PyModuleDef_HEAD_INIT,\n",
    "    \"magicpants\",\n",
    "    \"Python interface for the fputs C library function\",\n",
    "    -1,\n",
    "    MagicpantsMethods\n",
    "};"
   ]
  },
  {
   "cell_type": "code",
   "execution_count": null,
   "metadata": {},
   "outputs": [],
   "source": [
    "The fourth simply initializes the C extension"
   ]
  },
  {
   "cell_type": "code",
   "execution_count": null,
   "metadata": {},
   "outputs": [],
   "source": [
    "PyMODINIT_FUNC PyInit_magicpants(void) {\n",
    "    return PyModule_Create(&magicpantsmodule);\n",
    "}\n"
   ]
  },
  {
   "cell_type": "markdown",
   "metadata": {},
   "source": [
    "Finally, to call our C functions, we can install our module to our current environment by creating the following setup.py file in the same directory as magicpants.c "
   ]
  },
  {
   "cell_type": "code",
   "execution_count": null,
   "metadata": {},
   "outputs": [],
   "source": [
    "from distutils.core import setup, Extension\n",
    "\n",
    "def main():\n",
    "    setup(name=\"magicpants\",\n",
    "          version=\"1.0.0\",\n",
    "          description=\"Python interface for the fputs C library function\",\n",
    "          author=\"Clayton Seitz\",\n",
    "          author_email=\"cwseitz@uchicago.edu\",\n",
    "          ext_modules=[Extension(\"magicpants\", [\"magicpants.c\"])])\n",
    "\n",
    "if __name__ == \"__main__\":\n",
    "    main()\n"
   ]
  },
  {
   "cell_type": "code",
   "execution_count": null,
   "metadata": {},
   "outputs": [],
   "source": [
    "python setup.py install\n",
    "python\n",
    ">>> import magicpants\n",
    ">>> magicpants.fputs(\"You now have magical pants\", \"magicpants.txt\")"
   ]
  },
  {
   "cell_type": "markdown",
   "metadata": {},
   "source": [
    "If you are saving a python script to call this, be sure to name it something other than magicpants.py to avoid any conflicts"
   ]
  }
 ],
 "metadata": {
  "kernelspec": {
   "display_name": "C",
   "language": "c",
   "name": "c"
  },
  "language_info": {
   "file_extension": ".c",
   "mimetype": "text/plain",
   "name": "c"
  },
  "nikola": {
   "category": "c-prog",
   "date": "2020-06-15 21:20:41 UTC-04:00",
   "description": "",
   "link": "",
   "slug": "optimizing-python-execution-with-the-pythonc-api",
   "tags": "",
   "title": "Optimizing python execution with the Python/C API",
   "type": "text"
  }
 },
 "nbformat": 4,
 "nbformat_minor": 4
}
