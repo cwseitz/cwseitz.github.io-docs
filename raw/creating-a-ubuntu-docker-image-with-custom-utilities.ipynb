{
 "cells": [
  {
   "cell_type": "markdown",
   "metadata": {},
   "source": [
    "# Why I use Docker\n",
    "\n",
    "I prefer to develop code on Ubuntu linux because of its relative simplicity but would rather not run Ubuntu as a primary OS because it doesn't support a number of applications like Microsoft Office, Adobe, etc. Also, I would prefer the \"machine\" (whatever that may mean) be local; worrying about a network connection, getting access to a server or hosting your own can be a headache. That being said, there are three main options: carry around two computers and upload everything to cloud storage, run a full-blown Ubuntu virtual machine with VirtualBox or other virtualization software or run a Ubuntu docker container. \n",
    "\n",
    "The first option is just plain impractical and inefficient. The virtual machine is nice because it has a GUI but can get pretty clunky because it is actually virtualizing hardware, using a kernel, and all of that typical operating system stuff. Docker, on the other hand, treats the OS more so as an *environment*. The OS and its configuration is available as an image and an instance of that image is called a *container* which you can run on a host operating system. You can have multiple containers based off of the original image all with different configurations for different purposes. In essence, Docker makes the OS portable: you can run Ubuntu native applications on any operating system with Docker installed and, if you are able to get access to a server, just install docker and create an instance of your local container on it with no repeated efforts. A containerized OS also means you can do whatever you want including deleting all system files - just create a new instance. Finally, a Docker container is just another isolated process on your host machine so computing resources shouldn't become an issue unless it already was.\n",
    "\n",
    "Using Docker is not without issues, however. Docker images are usually stripped down versions of the actual OS meaning that that many of the utilities you would expect to come pre-installed, aren't. For the remainder of this brain-dump, I will write out a short tutorial on how to create a more usable image.\n",
    "\n",
    "# Creating a docker image\n",
    "\n",
    "After installing docker, you can see all of the images you have stored locally as follows:"
   ]
  },
  {
   "cell_type": "code",
   "execution_count": null,
   "metadata": {},
   "outputs": [],
   "source": [
    "docker images "
   ]
  },
  {
   "cell_type": "markdown",
   "metadata": {},
   "source": [
    "Let's run the latest Ubuntu image on docker hub in interactive mode and mount the host Desktop to /mnt/tmp"
   ]
  },
  {
   "cell_type": "code",
   "execution_count": null,
   "metadata": {},
   "outputs": [],
   "source": [
    "docker run -it -v /Users/cwseitz/Desktop:/mnt/tmp ubuntu /bin/bash"
   ]
  },
  {
   "cell_type": "markdown",
   "metadata": {},
   "source": [
    "Now we have a bash shell inside the container and can run whatever commands we like to install necessary packages. I prefer to run a single bash script that installs everything I need:"
   ]
  },
  {
   "cell_type": "code",
   "execution_count": 4,
   "metadata": {},
   "outputs": [
    {
     "ename": "SyntaxError",
     "evalue": "invalid syntax (<ipython-input-4-3f59cbde34e3>, line 2)",
     "output_type": "error",
     "traceback": [
      "\u001b[0;36m  File \u001b[0;32m\"<ipython-input-4-3f59cbde34e3>\"\u001b[0;36m, line \u001b[0;32m2\u001b[0m\n\u001b[0;31m    echo \"Building Ubuntu default image\"\u001b[0m\n\u001b[0m         ^\u001b[0m\n\u001b[0;31mSyntaxError\u001b[0m\u001b[0;31m:\u001b[0m invalid syntax\n"
     ]
    }
   ],
   "source": [
    "#!/bin/bash\n",
    "echo \"Building Ubuntu default image\"\n",
    "apt-get update\n",
    "apt-get install -y git wget gcc vim\n",
    "wget https://repo.anaconda.com/archive/Anaconda3-2020.07-Linux-x86_64.sh\n",
    "sha256sum Anaconda3-2020.07-Linux-x86_64.sh\n",
    "bash Anaconda3-2020.07-Linux-x86_64.sh\n",
    "source ~/.bashrc\n",
    "eval \"$(/root/anaconda3/bin/conda shell.bash hook)\""
   ]
  },
  {
   "cell_type": "markdown",
   "metadata": {},
   "source": [
    "# Save the container as an image\n",
    "\n",
    "First exit the container and check the containers you currently have. Find the name of the container you just constructed (in my case modest_agnesi) and run the following command to export it as a tar archive"
   ]
  },
  {
   "cell_type": "code",
   "execution_count": null,
   "metadata": {},
   "outputs": [],
   "source": [
    "docker export modest_agnesi > ~/Desktop/modest_agnesi.tar"
   ]
  },
  {
   "cell_type": "markdown",
   "metadata": {},
   "source": [
    "Finally if you want to import that image on this or another machine, run:"
   ]
  },
  {
   "cell_type": "code",
   "execution_count": null,
   "metadata": {},
   "outputs": [],
   "source": [
    "docker import ~/Desktop/modest_agnesi.tar"
   ]
  }
 ],
 "metadata": {
  "kernelspec": {
   "display_name": "Python 3",
   "language": "python",
   "name": "python3"
  },
  "language_info": {
   "codemirror_mode": {
    "name": "ipython",
    "version": 3
   },
   "file_extension": ".py",
   "mimetype": "text/x-python",
   "name": "python",
   "nbconvert_exporter": "python",
   "pygments_lexer": "ipython3",
   "version": "3.8.3"
  },
  "nikola": {
   "category": "docker",
   "date": "2020-08-22 11:28:24 UTC-04:00",
   "description": "",
   "link": "",
   "slug": "creating-a-ubuntu-docker-image-with-custom-utilities",
   "tags": "",
   "title": "Creating a ubuntu docker image with custom utilities",
   "type": "text"
  }
 },
 "nbformat": 4,
 "nbformat_minor": 4
}
