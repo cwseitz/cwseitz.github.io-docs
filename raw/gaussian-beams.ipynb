{
 "cells": [
  {
   "cell_type": "markdown",
   "metadata": {},
   "source": [
    "# The Paraxial Approximation\n",
    "\n",
    "A paraxial beam is one in which the direction of propagation is limited to directions within a small angle to a cartesian axis. If we assume the beam is propagating along the z-direction and is polarized along the x-direction, we can write\n",
    "\n",
    "\\begin{equation*}\n",
    "E(r,t) = \\psi(r)e^{-i(kz-\\omega t)}\\hat{x}\n",
    "\\end{equation*}\n",
    "\n",
    "where $\\psi(r)$ is an unknown spatial function that defines the shape of the beam. By plugging in our hypothetical solution to the Helmholtz equation, we discover the paraxial Helmholtz equation\n",
    "\n",
    "\\begin{equation*}\n",
    "\\nabla_{\\perp}^{2}\\psi(r) - 2ik\\partial_{z}\\psi(r) = 0\n",
    "\\end{equation*}\n"
   ]
  },
  {
   "cell_type": "code",
   "execution_count": null,
   "metadata": {},
   "outputs": [],
   "source": []
  }
 ],
 "metadata": {
  "kernelspec": {
   "display_name": "Python 3",
   "language": "python",
   "name": "python3"
  },
  "language_info": {
   "codemirror_mode": {
    "name": "ipython",
    "version": 3
   },
   "file_extension": ".py",
   "mimetype": "text/x-python",
   "name": "python",
   "nbconvert_exporter": "python",
   "pygments_lexer": "ipython3",
   "version": "3.8.3"
  },
  "nikola": {
   "category": "em-optics",
   "date": "2020-09-12 21:01:15 UTC-04:00",
   "description": "",
   "link": "",
   "slug": "gaussian-beams",
   "tags": "",
   "title": "Gaussian beams",
   "type": "text"
  }
 },
 "nbformat": 4,
 "nbformat_minor": 4
}
