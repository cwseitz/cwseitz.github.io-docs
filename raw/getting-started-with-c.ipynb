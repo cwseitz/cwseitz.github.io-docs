{
 "cells": [
  {
   "cell_type": "markdown",
   "metadata": {},
   "source": [
    "# Introduction\n",
    "\n",
    "The C programming language was first developed in the 1970s by Dennis Ritchie a Bell Labs. The language was inspired by its predecessor B and eventually would be standardized by the American National Standards Institute (ANSI) in the 1980s. The C programming language is a relatively low-level programming language which means that, as the programmer, you are required to do most of the leg work that is done automatically by higher level languages like Python. Practically speaking, we have to take memory management into our own hands when programming in C. This makes it very easy to shoot yourself in the foot as the programmer, but it also allows you program just about anything. This is by no means a comprehensive guide; it is only meant to be a rough overview of the language. The C Programming Language textbook is a great resources if you want to learn the ins and outs of the language.\n",
    "\n",
    "# Hello World\n",
    "\n",
    "Let's start with the hello world program in C. First, we must import the header file stdio.h, which handles basic input and output from the keyboard and display, respectively. Then we define the function main() which is required in every C program. In C, we are given the option of including the return type of the program before the function name but if our function does not return anything we can omit this. Lastly, we make a function call to *printf()*, where the f stands for format. This is the standard function used for printing to the console and we will see of an example of formatting in the next section. "
   ]
  },
  {
   "cell_type": "code",
   "execution_count": 11,
   "metadata": {},
   "outputs": [
    {
     "name": "stdout",
     "output_type": "stream",
     "text": [
      "Hello World"
     ]
    }
   ],
   "source": [
    "#include <stdio.h>\n",
    "\n",
    "main() {\n",
    "\n",
    "    printf(\"Hello World\");\n",
    "    \n",
    "}"
   ]
  },
  {
   "cell_type": "markdown",
   "metadata": {},
   "source": [
    "# Defining variables\n",
    "\n",
    " The first instance of this that we will encounter is in the definition of variables and their data types. This comes down to what is called *static typing* and *dynamic typing*  and there is a nice thread on this [here](https://stackoverflow.com/questions/1517582/what-is-the-difference-between-statically-typed-and-dynamically-typed-languages), but the tl;dr version is just that statically typed languages, like C, require the programmer to explicitly specify the data type of a particular variable when it is defined. Dynamically typed languages, like Python, have a system for inferring the type of a variable. Let's see this in action by creating a Farhenheit-Celsius table."
   ]
  },
  {
   "cell_type": "code",
   "execution_count": 12,
   "metadata": {},
   "outputs": [
    {
     "name": "stdout",
     "output_type": "stream",
     "text": [
      "0\t-17\n",
      "20\t-6\n",
      "40\t4\n",
      "60\t15\n",
      "80\t26\n",
      "100\t37\n",
      "120\t48\n",
      "140\t60\n",
      "160\t71\n",
      "180\t82\n",
      "200\t93\n",
      "220\t104\n",
      "240\t115\n",
      "260\t126\n",
      "280\t137\n",
      "300\t148\n"
     ]
    }
   ],
   "source": []
  },
  {
   "cell_type": "markdown",
   "metadata": {},
   "source": [
    "In the code above you can see that we defined five different variables: fahr, celsius, lower, upper, and step. Each of these is an integer so is preceded by *int*. The rest is just a standard while loop for incrementing the temperature in fahrenheit. \n",
    "\n",
    "# Data types in C\n",
    "\n",
    "Of course, there are other data types available for use in C. You can even define your own custom data types but we won't discuss that here. Anyway, we can arrange some of the commonly used data types in a table:\n",
    "\n",
    "| Type  | Storage | Value Range |\n",
    "| ----  | ------- | ----------- |\n",
    "| char  | 1 byte | -128 to 127 or 0 to 255 |\n",
    "| unsigned char  | 1 byte | 0 to 255 |\n",
    "| signed char | 1 byte | -128 to 127 |\n",
    "| int  | 2 or 4 bytes | -32,768 to 32,767 or -2,147,483,648 to 2,147,483,647 |\n",
    "| unsigned int  | 2 or 4 bytes | 0 to 65,535 or 0 to 4,294,967,295 |\n",
    "| float  | 4 bytes | 1.2E-38 to 3.4E+38 |\n",
    "| double  | 8 bytes | 2.3E-308 to 1.7E+308 |\n",
    "| short | 2 bytes | -32,768 to 32,767 |\n",
    "| unsigned short | 2 bytes | 0 to 65,535|\n",
    "| long | 8 bytes | -9223372036854775808 to 9223372036854775807 |\n",
    "| unsigned long | 8 bytes | 0 to 18446744073709551615 |\n",
    "\n",
    "\n",
    "This is by no means a comprehensive list, but its a good start. Let's verify this table by writing a program that defines a variable of each of these types and prints number of bytes allocated for it by using the sizeof function():"
   ]
  },
  {
   "cell_type": "code",
   "execution_count": 57,
   "metadata": {},
   "outputs": [
    {
     "name": "stdout",
     "output_type": "stream",
     "text": [
      "The size of char is 1 byte(s)\n",
      "The size of unsigned char is 1 byte(s)\n",
      "The size of signed char is 1 byte(s)\n",
      "The size of int is 4 byte(s)\n",
      "The size of unsigned int is 4 byte(s)\n",
      "The size of a float is 4 byte(s)\n",
      "The size of a double is 8 byte(s)\n",
      "The size of short is 2 byte(s)\n",
      "The size of unsigned short is 2 byte(s)\n",
      "The size of long is 8 byte(s)\n",
      "The size of unsigned long is 8 byte(s)\n"
     ]
    }
   ],
   "source": [
    "#include <stdio.h>\n",
    "\n",
    "int main() {\n",
    "\n",
    "    char a_char; \n",
    "    unsigned char a_uchar;\n",
    "    signed char a_schar;\n",
    "    int a_int; \n",
    "    unsigned int a_uint;\n",
    "    float a_float;\n",
    "    double a_double;\n",
    "    short a_short;\n",
    "    unsigned short a_ushort;\n",
    "    long a_long;\n",
    "    unsigned long a_ulong;\n",
    "    \n",
    "    \n",
    "    printf(\"The size of char is %zu byte(s)\\n\", sizeof(a_char));\n",
    "    printf(\"The size of unsigned char is %zu byte(s)\\n\", sizeof(a_uchar));\n",
    "    printf(\"The size of signed char is %zu byte(s)\\n\", sizeof(a_schar));\n",
    "    printf(\"The size of int is %zu byte(s)\\n\", sizeof(a_int));\n",
    "    printf(\"The size of unsigned int is %zu byte(s)\\n\", sizeof(a_uint));\n",
    "    printf(\"The size of a float is %zu byte(s)\\n\", sizeof(a_float));\n",
    "    printf(\"The size of a double is %zu byte(s)\\n\", sizeof(a_double));\n",
    "    printf(\"The size of short is %zu byte(s)\\n\", sizeof(a_short));\n",
    "    printf(\"The size of unsigned short is %zu byte(s)\\n\", sizeof(a_ushort));\n",
    "    printf(\"The size of long is %zu byte(s)\\n\", sizeof(a_long));\n",
    "    printf(\"The size of unsigned long is %zu byte(s)\\n\", sizeof(a_ulong));\n",
    "    \n",
    "    \n",
    "}"
   ]
  },
  {
   "cell_type": "markdown",
   "metadata": {},
   "source": [
    "# Looping\n",
    "\n",
    "To learn the syntax for looping in C, we will write a Fahrenheit-Celsius conversion program which can also be found in the standard  C Programming Language textbook. \n",
    "\n",
    "## While-Loops\n",
    "\n",
    "The standard syntax for a while loop is while(condition){do something}. We can utilize our newfound knowledge of variable definitions to set some bounds on the while-loop."
   ]
  },
  {
   "cell_type": "code",
   "execution_count": 37,
   "metadata": {},
   "outputs": [
    {
     "name": "stdout",
     "output_type": "stream",
     "text": [
      "0\t-17\n",
      "20\t-6\n",
      "40\t4\n",
      "60\t15\n",
      "80\t26\n",
      "100\t37\n",
      "120\t48\n",
      "140\t60\n",
      "160\t71\n",
      "180\t82\n",
      "200\t93\n",
      "220\t104\n",
      "240\t115\n",
      "260\t126\n",
      "280\t137\n",
      "300\t148\n"
     ]
    }
   ],
   "source": [
    "#include <stdio.h>\n",
    "\n",
    "int main() {\n",
    "\n",
    "    int fahr, celsius;\n",
    "    int lower, upper, step;\n",
    "    \n",
    "    lower = 0; /* lower limit of temp table */\n",
    "    upper = 300; /* upper limit of temp table */\n",
    "    step = 20; /* step size */\n",
    "    \n",
    "    fahr = lower;\n",
    "    \n",
    "    while (fahr <= upper){\n",
    "        \n",
    "        celsius = 5 * (fahr - 32) / 9;\n",
    "        printf(\"%d\\t%d\\n\", fahr, celsius);\n",
    "        fahr = fahr + step;\n",
    "    \n",
    "    }   \n",
    "}"
   ]
  },
  {
   "cell_type": "markdown",
   "metadata": {},
   "source": [
    "## For-Loops\n",
    "\n",
    "Let's write the same program using a for-loop this time. The standard syntax for a for-loop is for(lower bound; upper bound; increment){do something}. In place of 'lower bound' we set some initial condition for the counter that will be modified in the body of the loop. Upper bound is of course the value the counter will take it the loops last iteration, and the increment determines how much the counter is incremented at each iteration. In this case, the counter is the temperature on a fahrenheit scale."
   ]
  },
  {
   "cell_type": "code",
   "execution_count": 36,
   "metadata": {},
   "outputs": [
    {
     "name": "stdout",
     "output_type": "stream",
     "text": [
      "0\t-17\n",
      "20\t-6\n",
      "40\t4\n",
      "60\t15\n",
      "80\t26\n",
      "100\t37\n",
      "120\t48\n",
      "140\t60\n",
      "160\t71\n",
      "180\t82\n",
      "200\t93\n",
      "220\t104\n",
      "240\t115\n",
      "260\t126\n",
      "280\t137\n",
      "300\t148\n"
     ]
    }
   ],
   "source": [
    "#include <stdio.h>\n",
    "\n",
    "int main() {\n",
    "\n",
    "    int fahr, celsius;\n",
    "    int lower, upper, step;\n",
    "    \n",
    "    lower = 0; /* lower limit of temp table */\n",
    "    upper = 300; /* upper limit of temp table */\n",
    "    step = 20; /* step size */\n",
    "    \n",
    "    fahr = lower;\n",
    "    \n",
    "    for (fahr = lower; fahr <= upper; fahr = fahr + step){\n",
    "    \n",
    "        celsius = 5 * (fahr - 32) / 9;\n",
    "        printf(\"%d\\t%d\\n\", fahr, celsius);\n",
    "    }\n",
    "\n",
    "}"
   ]
  },
  {
   "cell_type": "markdown",
   "metadata": {},
   "source": [
    "# Arrays\n",
    "\n",
    "## Character Arrays\n",
    "\n",
    "In this next section, we will focus on arrays and their implementation in C. This brings up an interesting topic: there is no such thing as a string at this level, rather, strings are implemented as arrays of characters. So we can defined a string by defining an array and assigning its elements as the characters of string like 'bananas'."
   ]
  },
  {
   "cell_type": "code",
   "execution_count": 30,
   "metadata": {},
   "outputs": [
    {
     "name": "stdout",
     "output_type": "stream",
     "text": [
      "The size of 'bananas' is 7 byte(s)\n"
     ]
    }
   ],
   "source": [
    "#include <stdio.h>\n",
    "\n",
    "int main() {\n",
    "\n",
    "    char mystr[7] = \"bananas\";\n",
    "    printf(\"The size of '%s' is %zu byte(s)\\n\", mystr, sizeof(mystr));\n",
    "\n",
    "}"
   ]
  },
  {
   "cell_type": "markdown",
   "metadata": {},
   "source": [
    "## Integer Arrays\n",
    "\n",
    "Arrays of integers are defined in a similar way; however, you cannot print the entire array as we did with the character array above. You have to iterate through the array and call printf() for each element. "
   ]
  },
  {
   "cell_type": "code",
   "execution_count": 32,
   "metadata": {},
   "outputs": [
    {
     "name": "stdout",
     "output_type": "stream",
     "text": [
      "0\n",
      "1\n",
      "2\n",
      "3\n",
      "4\n",
      "5\n"
     ]
    }
   ],
   "source": [
    "#include <stdio.h>\n",
    "\n",
    "int main() {\n",
    "\n",
    "    int ndigits = 5;\n",
    "    int i;\n",
    "    int digits[ndigits];\n",
    "    \n",
    "    for (i = 0; i <= ndigits; i++){\n",
    "\n",
    "        digits[i] = i;\n",
    "        printf(\"%d\\n\", digits[i]);\n",
    "    \n",
    "    }    \n",
    "}"
   ]
  },
  {
   "cell_type": "markdown",
   "metadata": {},
   "source": [
    "# Control Flow\n",
    "\n",
    "Another indispensible tool in C programming is the use of control-flow that will determine the behavior of the program given certain inputs. One useful example of this involves using control flow to determine whether a variable is an integer or alphabetical character. This kind of control flow could be very useful when reading raw data from files and parsing the content. "
   ]
  },
  {
   "cell_type": "code",
   "execution_count": 55,
   "metadata": {},
   "outputs": [
    {
     "name": "stdout",
     "output_type": "stream",
     "text": [
      "var1 = |a| is an alphabetical character\n",
      "var2 = |5| is a digit\n"
     ]
    }
   ],
   "source": [
    "#include <stdio.h>\n",
    "#include <ctype.h>\n",
    "\n",
    "int main(){\n",
    "\n",
    "   int var1 = 'a';\n",
    "   int var2 = '5';\n",
    "    \n",
    "    \n",
    "   /* Check variable 1 */\n",
    "   if(isdigit(var1)) {\n",
    "      printf(\"var1 = |%c| is a digit\\n\", var1);\n",
    "   } else if (isalpha(var1)){\n",
    "      printf(\"var1 = |%c| is an alphabetical character\\n\", var1);\n",
    "   }\n",
    "   \n",
    "   /* Check variable 2 */\n",
    "   if(isdigit(var2)){\n",
    "      printf(\"var2 = |%c| is a digit\\n\", var2);\n",
    "   } else if (isalpha(var2)){\n",
    "      printf(\"var2= |%c| is an alphabetical character\\n\", var2);\n",
    "   }\n",
    "}"
   ]
  },
  {
   "cell_type": "markdown",
   "metadata": {},
   "source": [
    "# Functions & Arguments\n",
    "\n",
    "I really like how the C Programming Language textbook describes the philosophy of a function. The author writes: \"With properly defined functions, it is possible to ignore *how* a job is done; knowing *what* is done is sufficient. Thus far, we've utilized functions like printf(), isdigit(), etc.; now, we'd like to define some functions of our own. When defining user functions in C, we have to use a *function prototype* which is typically one line of code that includes three things: the function's return type, name, and arguments. For example if we want to define a function that performs multiplication, it's prototype would look like: float sqrt(float m, float n);. Then, we can write out the body of the function and invoke it in main.\n"
   ]
  },
  {
   "cell_type": "code",
   "execution_count": 61,
   "metadata": {},
   "outputs": [
    {
     "name": "stdout",
     "output_type": "stream",
     "text": [
      "The product is: 10.000000"
     ]
    }
   ],
   "source": [
    "#include <stdio.h>\n",
    "\n",
    "float mult(float m, float n);\n",
    "\n",
    "int main(){\n",
    "\n",
    "    float m, n, p;\n",
    "    m = 5; \n",
    "    n = 2;\n",
    "    p = mult(m,n);\n",
    "    printf(\"The product is: %f\", p);\n",
    "    \n",
    "}\n",
    "\n",
    "float mult(float m, float n){\n",
    "\n",
    "    float p; \n",
    "    p = m*n;\n",
    "    return(p);\n",
    "    \n",
    "\n",
    "}"
   ]
  },
  {
   "cell_type": "markdown",
   "metadata": {},
   "source": [
    "# Pointers and Address Arithmetic "
   ]
  },
  {
   "cell_type": "markdown",
   "metadata": {},
   "source": [
    "# Pointers\n",
    "\n",
    "A pointer in C is a variable that contains the address of another variable. To really understand pointers and why\n",
    "they are useful, it is necessary to understand how RAM in a computer is organized. RAM is typically an array of memory cells which are numbered consecutively. That address is usually in hexadecimal format. To define a pointer, we precede the pointer name with an asterisk. If b is the variable containing the pointer and type is the data type of the variable that b will point to. For example, we can assign the address of a variable a to another variable b. Also, we can access and modify what is stored in a via the *indirection* or *dereferencing* operator This is best shown by example:"
   ]
  },
  {
   "cell_type": "code",
   "execution_count": 77,
   "metadata": {},
   "outputs": [
    {
     "name": "stdout",
     "output_type": "stream",
     "text": [
      "The variable a is located at: 0x7ffe7b87f988\n",
      "The contents of a is: 5\n",
      "The contents of a is: 11\n",
      "The contents of c is: 5"
     ]
    }
   ],
   "source": [
    "#include <stdio.h>\n",
    "\n",
    "\n",
    "int main(){\n",
    "\n",
    "    int a, c, *b;\n",
    "    \n",
    "    a = 5;\n",
    "    b = &a; \n",
    "    \n",
    "    printf(\"The variable a is located at: %p\\n\", b); \n",
    "    printf(\"The contents of a is: %d\\n\", *b);\n",
    "    \n",
    "    c = *b;\n",
    "    *b += 5;\n",
    "    ++*b;\n",
    "\n",
    "    printf(\"The contents of a is: %d\\n\", *b);\n",
    "    printf(\"The contents of c is: %d\", c);\n",
    "    \n",
    "}\n"
   ]
  },
  {
   "cell_type": "markdown",
   "metadata": {},
   "source": [
    "As you can see, we can assign the address of a to the pointer b. Then, we can copy what is contained in a to another variable c by using the indirection operator. After that, we modify a using the same operator, keeping c intact. Moving on, pointers become especially important when passing variables to a function you want to modify the original variables. In C, arguments are passed to functions *by value* meaning that when you pass, say, an integer to a function you pass only a *copy* of that integer to the function. Therefore, the function has no way of modifying the variable itself. There is a good example of how to reconcile this issue with pointers in the C Programming Language textbook. We will define a function swap(), which will take to variables and swap their values. First, we will try it the wrong way and then we will show how pointers make it work correctly. \n"
   ]
  },
  {
   "cell_type": "code",
   "execution_count": 78,
   "metadata": {},
   "outputs": [
    {
     "name": "stdout",
     "output_type": "stream",
     "text": [
      "The variable x contains: 1\n",
      "The variable y contains: 2\n"
     ]
    }
   ],
   "source": [
    "#include <stdio.h>\n",
    "\n",
    "void swap(int x, int y){\n",
    "\n",
    "    int temp; \n",
    "    temp = x;\n",
    "    x = y; \n",
    "    y = temp;\n",
    "\n",
    "}\n",
    "\n",
    "\n",
    "int main(){\n",
    "\n",
    "    int x,y; \n",
    "    x = 1; \n",
    "    y = 2;\n",
    "    \n",
    "    swap(x, y);\n",
    "    printf(\"The variable x contains: %d\\n\", x); \n",
    "    printf(\"The variable y contains: %d\\n\", y); \n",
    "\n",
    "}"
   ]
  },
  {
   "cell_type": "code",
   "execution_count": null,
   "metadata": {},
   "outputs": [],
   "source": [
    "As you can see, nothing happened. Now let's try it the correct way by using pointers to x and y."
   ]
  },
  {
   "cell_type": "code",
   "execution_count": 80,
   "metadata": {},
   "outputs": [
    {
     "name": "stdout",
     "output_type": "stream",
     "text": [
      "The variable x contains: 2\n",
      "The variable y contains: 1\n"
     ]
    }
   ],
   "source": [
    "#include <stdio.h>\n",
    "\n",
    "void swap(int *px, int *py){\n",
    "\n",
    "    int temp; \n",
    "    temp = *px;\n",
    "    *px = *py; \n",
    "    *py = temp;\n",
    "\n",
    "}\n",
    "\n",
    "\n",
    "int main(){\n",
    "\n",
    "    int x,y; \n",
    "    x = 1; \n",
    "    y = 2;\n",
    "    \n",
    "    swap(&x, &y);\n",
    "    printf(\"The variable x contains: %d\\n\", x); \n",
    "    printf(\"The variable y contains: %d\\n\", y); \n",
    "\n",
    "}"
   ]
  },
  {
   "cell_type": "markdown",
   "metadata": {},
   "source": [
    "# Address Arithmetic\n",
    "\n",
    "In its most basic form, address arithmetic allows you to define a pointer to a particular location in memory and then increment that pointer to arrive at neighboring memory locations. This is especially useful if you want to allocate a block of memory addresses for storage. In the code below, we will allocate a block of memory allocbuf that will fit ALLOCSIZE characters. The user can then call the function alloc() to allocate chunks of allocbuf for their storage needs.   "
   ]
  },
  {
   "cell_type": "code",
   "execution_count": null,
   "metadata": {},
   "outputs": [],
   "source": [
    "#define ALLOCSIZE 10000\n",
    "\n",
    "static char allocbuf[ALLOCSIZE]; /* array of characters */\n",
    "static char *allocp = &allocbuf[0]; /* initialize pointer to start of allocbuf */\n",
    "\n",
    "char *alloc(int n){\n",
    "    \n",
    "    if(allocbuf + ALLOCSIZE - allocp >= n){ /* check if n chars will fit */\n",
    "        allocp += n;\n",
    "        return allocp - n; \n",
    "        \n",
    "    } else {\n",
    "    \n",
    "        return 0; /* signal that there is no space */\n",
    "    }\n",
    "\n",
    "}\n",
    "\n",
    "void afree(char *p){\n",
    "    \n",
    "    if (p >= allocbuf && p < allocbuf + ALLOCSIZE){\n",
    "        \n",
    "        allocp = p;\n",
    "    \n",
    "    }\n",
    "\n",
    "}"
   ]
  },
  {
   "cell_type": "markdown",
   "metadata": {},
   "source": [
    "Notice the alloc() checks first to see if n characters will fit in allocbuf. If their request can be fulfilled, n is added to the pointer allocp and allocp - n is returned so the user has the starting point for their block of memory. Recall that allocp is a global variable so successive calls to alloc() will affect allocp permanently. Finally, afree() can be used to free memory beyond a memory location p. It does this by simply reassigning the pointer allocp to the memory location beyond which memory should be freed. These functions are implemented in the standard library (but more robustly) as malloc() and free()."
   ]
  }
 ],
 "metadata": {
  "kernelspec": {
   "display_name": "C",
   "language": "c",
   "name": "c"
  },
  "language_info": {
   "file_extension": ".c",
   "mimetype": "text/plain",
   "name": "c"
  },
  "nikola": {
   "category": "c-prog",
   "date": "2020-05-02 22:07:53 UTC-04:00",
   "description": "",
   "link": "",
   "slug": "getting-started-with-c",
   "tags": "",
   "title": "Getting started with C",
   "type": "text"
  }
 },
 "nbformat": 4,
 "nbformat_minor": 2
}
