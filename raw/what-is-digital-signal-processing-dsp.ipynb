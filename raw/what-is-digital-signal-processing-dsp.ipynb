{
 "cells": [
  {
   "cell_type": "markdown",
   "metadata": {},
   "source": [
    "# Digital Signal Processing (DSP)\n",
    " \n",
    "Digital Signal processing or DSP is difficult to define precisely but a working definition might read: DSP is the use of discrete algorithms to modify the information contained within digital signals or to extract valuable features of a digital signal. A digital signal in itself is just a variable that can take on a discrete set of values and can be displayed or manipulated. Digital signals are very common in the modern age and play a central role in telecommunications, biomedical signals, music, video/image, and so on. \n",
    "\n",
    "\n",
    "# Key DSP Operations\n",
    "\n",
    "Most DSP algorithms are based off of four fundamental operations: \n",
    "\n",
    "1. Convolution\n",
    "2. Correlation\n",
    "3. Filtering\n",
    "4. Discrete Transformations\n",
    "\n",
    "The next four sections are dedicated to the demonstration of these four operations so that they can be used as building blocks for more complex operations. \n",
    "\n",
    "\n",
    "# Convolution and Filtering\n",
    "\n",
    "\n",
    "For a discrete time sequence $x(t)$, its convolution with another discrete time sequence $h(t)$ is defined as:\n",
    "\n",
    "\\begin{equation*}\n",
    "y(t) = x(t)*h(t) = \\sum_{k=-\\infty}^{\\infty}x(k)\\cdot h(t-k)\n",
    "\\end{equation*}\n",
    "\n",
    "At first glance, this seems like an arbitrary mathematical operation, but it is very useful in signal processing applications provided we carefully choose the function $h(t)$. Indeed, the function $h(t)$ can be designed so that it acts as a *filter*, eliminating undesirable signal components. There is an interesting theorem in mathematics called the *convolution theorem* that states that the convolution in the time domain is equivalent to multiplication in the frequency domain. In fact, this relationship between the convolution and frequency domain is why I have merged two seemingly distinct sections on convolution and filtering. We will see that we can filter a digital signal in the time domain by convolution or we can transform to the frequency domain, perform multiplication and transform back to the time domain. \n",
    "\n",
    "# Correlation\n",
    "\n",
    "There are two main types of correlations: autocorrelations and cross-correlations. The former describes the correlation of a digital signal with itself while the latter describes the correlation of two independent signals. \n"
   ]
  }
 ],
 "metadata": {
  "kernelspec": {
   "display_name": "Python 3",
   "env": {},
   "interrupt_mode": "signal",
   "language": "python",
   "metadata": {},
   "name": "python3"
  },
  "nikola": {
   "category": "dsp",
   "date": "2020-05-05 23:29:18 UTC-04:00",
   "description": "",
   "link": "",
   "slug": "what-is-digital-signal-processing-dsp",
   "tags": "",
   "title": "What is digital signal processing (DSP)?",
   "type": "text"
  }
 },
 "nbformat": 4,
 "nbformat_minor": 4
}
