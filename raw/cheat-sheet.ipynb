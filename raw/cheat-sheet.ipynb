{
 "cells": [
  {
   "cell_type": "markdown",
   "metadata": {},
   "source": [
    "# RClone"
   ]
  },
  {
   "cell_type": "code",
   "execution_count": null,
   "metadata": {},
   "outputs": [],
   "source": [
    "#Mounting a remote as a local directory\n",
    "!sudo mkdir /mnt/tmp\n",
    "!rclone mount remote:/path/to/files /mnt/tmp\n",
    "!fusermount -u /mnt/tmp"
   ]
  },
  {
   "cell_type": "code",
   "execution_count": null,
   "metadata": {},
   "outputs": [],
   "source": [
    "#Syncing a remote with a local directory\n",
    "!rclone sync source:path dest:path [flags]\n",
    "#Example\n",
    "!rclone sync /path/to/files ucbox:/ --create-empty-src-dirs"
   ]
  },
  {
   "cell_type": "markdown",
   "metadata": {},
   "source": [
    "# Docker"
   ]
  },
  {
   "cell_type": "code",
   "execution_count": null,
   "metadata": {},
   "outputs": [],
   "source": [
    "#Listing docker images\n",
    "!docker images \n",
    "#List docker containers\n",
    "!docker ps -a\n",
    "#Removing all docker images\n",
    "!docker rmi $(docker images)\n",
    "#Removing all docker containers \n",
    "!docker rm $(docker ps -a)\n",
    "#Running a docker container \n",
    "!docker run -i -t NAME /bin/bash\n",
    "#Exporting a docker container to .tar archive\n",
    "!docker export -o ~/Desktop/test.tar test\n",
    "#Import an archived docker container as an image (an imported container == image)\n",
    "!docker import ~/Desktop/test.tar"
   ]
  }
 ],
 "metadata": {
  "kernelspec": {
   "display_name": "Python 3",
   "language": "python",
   "name": "python3"
  },
  "language_info": {
   "codemirror_mode": {
    "name": "ipython",
    "version": 3
   },
   "file_extension": ".py",
   "mimetype": "text/x-python",
   "name": "python",
   "nbconvert_exporter": "python",
   "pygments_lexer": "ipython3",
   "version": "3.8.3"
  },
  "nikola": {
   "category": "cheat-sheet",
   "date": "2020-07-30 14:04:45 UTC-04:00",
   "description": "",
   "link": "",
   "slug": "cheat-sheet",
   "tags": "",
   "title": "Cheat Sheet",
   "type": "text"
  }
 },
 "nbformat": 4,
 "nbformat_minor": 4
}
