{
 "cells": [
  {
   "cell_type": "markdown",
   "metadata": {},
   "source": [
    "Write your post here."
   ]
  }
 ],
 "metadata": {
  "kernelspec": {
   "display_name": "Python 2",
   "language": "python",
   "name": "python2"
  },
  "language_info": {
   "codemirror_mode": {
    "name": "ipython",
    "version": 2
   },
   "file_extension": ".py",
   "mimetype": "text/x-python",
   "name": "python",
   "nbconvert_exporter": "python",
   "pygments_lexer": "ipython2",
   "version": "2.7.15"
  },
  "nikola": {
   "category": "dsp",
   "date": "2020-03-10 00:10:59 UTC-04:00",
   "description": "",
   "link": "",
   "slug": "filtering-a-digital-signal",
   "tags": "",
   "title": "Filtering a Digital Signal",
   "type": "text"
  }
 },
 "nbformat": 4,
 "nbformat_minor": 2
}
