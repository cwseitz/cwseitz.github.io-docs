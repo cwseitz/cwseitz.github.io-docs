{
 "cells": [
  {
   "cell_type": "markdown",
   "metadata": {},
   "source": [
    "# Maxwell's equations in vacuum"
   ]
  },
  {
   "cell_type": "markdown",
   "metadata": {},
   "source": [
    "\\begin{equation*}\n",
    "\\nabla \\cdot \\vec{E} = \\frac{\\rho}{\\epsilon_{0}} \n",
    "\\end{equation*}\n",
    "\n",
    "\\begin{equation*}\n",
    "\\nabla \\cdot \\vec{B} = 0 \n",
    "\\end{equation*}\n",
    "\n",
    "\\begin{equation*}\n",
    "\\nabla \\times \\vec{E} = -\\frac{\\partial B}{\\partial t}\n",
    "\\end{equation*}\n",
    "\n",
    "\\begin{equation*}\n",
    "\\nabla \\times \\vec{B} = \\frac{1}{c^{2}}\\frac{\\partial E}{\\partial t} + \\mu_{0}J\n",
    "\\end{equation*}\n"
   ]
  },
  {
   "cell_type": "code",
   "execution_count": null,
   "metadata": {},
   "outputs": [],
   "source": []
  }
 ],
 "metadata": {
  "kernelspec": {
   "display_name": "Python 3",
   "language": "python",
   "name": "python3"
  },
  "language_info": {
   "codemirror_mode": {
    "name": "ipython",
    "version": 3
   },
   "file_extension": ".py",
   "mimetype": "text/x-python",
   "name": "python",
   "nbconvert_exporter": "python",
   "pygments_lexer": "ipython3",
   "version": "3.8.3"
  },
  "nikola": {
   "category": "em-optics",
   "date": "2020-09-13 01:13:20 UTC-04:00",
   "description": "",
   "link": "",
   "slug": "electrodynamics-of-isotropic-media",
   "tags": "",
   "title": "Electrodynamics of isotropic media",
   "type": "text"
  }
 },
 "nbformat": 4,
 "nbformat_minor": 4
}
